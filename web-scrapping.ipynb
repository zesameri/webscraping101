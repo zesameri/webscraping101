{
 "metadata": {
  "language_info": {
   "codemirror_mode": {
    "name": "ipython",
    "version": 3
   },
   "file_extension": ".py",
   "mimetype": "text/x-python",
   "name": "python",
   "nbconvert_exporter": "python",
   "pygments_lexer": "ipython3",
   "version": "3.9.2-final"
  },
  "orig_nbformat": 2,
  "kernelspec": {
   "name": "python3",
   "display_name": "Python 3.9.2 64-bit",
   "metadata": {
    "interpreter": {
     "hash": "5e01d4784815b9fb7c203d1c2ef90d4b256ba9e2a4b33e32e918d0a45f4100d5"
    }
   }
  }
 },
 "nbformat": 4,
 "nbformat_minor": 2,
 "cells": [
  {
   "cell_type": "code",
   "execution_count": 37,
   "metadata": {},
   "outputs": [],
   "source": [
    "# import packages\n",
    "import requests\n",
    "from bs4 import BeautifulSoup\n",
    "import pandas as pd"
   ]
  },
  {
   "cell_type": "code",
   "execution_count": 18,
   "metadata": {
    "tags": []
   },
   "outputs": [],
   "source": [
    "url = \"https://en.wikipedia.org/wiki/Tesla,_Inc.\"\n",
    "request = requests.get(url)\n",
    "data = request.text\n",
    "soup = BeautifulSoup(data)"
   ]
  },
  {
   "cell_type": "code",
   "execution_count": null,
   "metadata": {
    "tags": [
     "outputPrepend"
    ]
   },
   "outputs": [],
   "source": [
    "print(soup.prettify)"
   ]
  },
  {
   "cell_type": "code",
   "execution_count": null,
   "metadata": {},
   "outputs": [],
   "source": [
    "for link in soup.find_all('a'):\n",
    "    print(link.get('href'))"
   ]
  },
  {
   "cell_type": "code",
   "execution_count": 15,
   "metadata": {},
   "outputs": [
    {
     "output_type": "execute_result",
     "data": {
      "text/plain": [
       "<title>Tesla, Inc. - Wikiwand</title>"
      ]
     },
     "metadata": {},
     "execution_count": 15
    }
   ],
   "source": [
    "soup.title"
   ]
  },
  {
   "cell_type": "code",
   "execution_count": 13,
   "metadata": {},
   "outputs": [],
   "source": [
    "with open('doc.html', 'w') as file:\n",
    "    file.write(soup.prettify())"
   ]
  },
  {
   "cell_type": "code",
   "execution_count": 27,
   "metadata": {},
   "outputs": [
    {
     "output_type": "stream",
     "name": "stdout",
     "text": [
      "<tbody><tr>\n<th>Year\n</th>\n<th>Revenue<br/>(mil. USD)\n</th>\n<th>Net income<br/>(mil. USD)\n</th>\n<th>Total assets<br/>(mil. USD)\n</th>\n<th>Employees\n</th></tr>\n<tr>\n<td align=\"left\">2005<sup class=\"reference\" id=\"cite_ref-Tesla_IPO_2010_471-0\"><a href=\"#cite_note-Tesla_IPO_2010-471\">[471]</a></sup>\n</td>\n<td>0\n</td>\n<td>-12\n</td>\n<td>8\n</td>\n<td>\n</td></tr>\n<tr>\n<td align=\"left\">2006<sup class=\"reference\" id=\"cite_ref-Tesla_IPO_2010_471-1\"><a href=\"#cite_note-Tesla_IPO_2010-471\">[471]</a></sup> <sup class=\"reference\" id=\"cite_ref-472\"><a href=\"#cite_note-472\">[472]</a></sup>\n</td>\n<td>0\n</td>\n<td>-30\n</td>\n<td>44\n</td>\n<td>70\n</td></tr>\n<tr>\n<td align=\"left\">2007<sup class=\"reference\" id=\"cite_ref-Tesla_IPO_2010_471-2\"><a href=\"#cite_note-Tesla_IPO_2010-471\">[471]</a></sup>\n</td>\n<td>0.073\n</td>\n<td>-78\n</td>\n<td>34\n</td>\n<td>268\n</td></tr>\n<tr>\n<td align=\"left\">2008<sup class=\"reference\" id=\"cite_ref-Tesla_IPO_2010_471-3\"><a href=\"#cite_note-Tesla_IPO_2010-471\">[471]</a></sup>\n</td>\n<td>15\n</td>\n<td>-83\n</td>\n<td>52\n</td>\n<td>252\n</td></tr>\n<tr>\n<td align=\"left\">2009<sup class=\"reference\" id=\"cite_ref-Tesla_IPO_2010_471-4\"><a href=\"#cite_note-Tesla_IPO_2010-471\">[471]</a></sup>\n</td>\n<td>112\n</td>\n<td>−56\n</td>\n<td>130\n</td>\n<td>514\n</td></tr>\n<tr>\n<td align=\"left\">2010<sup class=\"reference\" id=\"cite_ref-473\"><a href=\"#cite_note-473\">[473]</a></sup>\n</td>\n<td>117\n</td>\n<td>−154\n</td>\n<td>386\n</td>\n<td>899\n</td></tr>\n<tr>\n<td align=\"left\">2011<sup class=\"reference\" id=\"cite_ref-474\"><a href=\"#cite_note-474\">[474]</a></sup>\n</td>\n<td>204\n</td>\n<td>−254\n</td>\n<td>713\n</td>\n<td>1,417\n</td></tr>\n<tr>\n<td align=\"left\">2012<sup class=\"reference\" id=\"cite_ref-475\"><a href=\"#cite_note-475\">[475]</a></sup>\n</td>\n<td>413\n</td>\n<td>−396\n</td>\n<td>1,114\n</td>\n<td>2,914\n</td></tr>\n<tr>\n<td align=\"left\">2013<sup class=\"reference\" id=\"cite_ref-476\"><a href=\"#cite_note-476\">[476]</a></sup>\n</td>\n<td>2,013\n</td>\n<td>−74\n</td>\n<td>2,417\n</td>\n<td>5,859\n</td></tr>\n<tr>\n<td align=\"left\">2014<sup class=\"reference\" id=\"cite_ref-477\"><a href=\"#cite_note-477\">[477]</a></sup>\n</td>\n<td>3,198\n</td>\n<td>−294\n</td>\n<td>5,831\n</td>\n<td>10,161\n</td></tr>\n<tr>\n<td align=\"left\">2015<sup class=\"reference\" id=\"cite_ref-478\"><a href=\"#cite_note-478\">[478]</a></sup>\n</td>\n<td>4,046\n</td>\n<td>−889\n</td>\n<td>8,068\n</td>\n<td>13,058\n</td></tr>\n<tr>\n<td align=\"left\">2016<sup class=\"reference\" id=\"cite_ref-479\"><a href=\"#cite_note-479\">[479]</a></sup>\n</td>\n<td>7,000\n</td>\n<td>−675\n</td>\n<td>22,664\n</td>\n<td>17,782\n</td></tr>\n<tr>\n<td align=\"left\">2017<sup class=\"reference\" id=\"cite_ref-480\"><a href=\"#cite_note-480\">[480]</a></sup>\n</td>\n<td>11,759\n</td>\n<td>−1,962\n</td>\n<td>28,655\n</td>\n<td>37,543\n</td></tr>\n<tr>\n<td align=\"left\">2018<sup class=\"reference\" id=\"cite_ref-481\"><a href=\"#cite_note-481\">[481]</a></sup>\n</td>\n<td>21,461\n</td>\n<td>−976\n</td>\n<td>29,740\n</td>\n<td>48,817\n</td></tr>\n<tr>\n<td align=\"left\">2019<sup class=\"reference\" id=\"cite_ref-FY19_482-0\"><a href=\"#cite_note-FY19-482\">[482]</a></sup>\n</td>\n<td>24,578\n</td>\n<td>−862\n</td>\n<td>34,309\n</td>\n<td>48,016\n</td></tr>\n<tr>\n<td align=\"left\">2020<sup class=\"reference\" id=\"cite_ref-tesla_q42020_4-6\"><a href=\"#cite_note-tesla_q42020-4\">[4]</a></sup>\n</td>\n<td>31,536\n</td>\n<td>721\n</td>\n<td>52,148\n</td>\n<td>70,757\n</td></tr></tbody>\n"
     ]
    }
   ],
   "source": [
    "full_table = soup.select('table.wikitable tbody')[3]\n",
    "print(full_table)"
   ]
  },
  {
   "cell_type": "code",
   "execution_count": 32,
   "metadata": {},
   "outputs": [
    {
     "output_type": "stream",
     "name": "stdout",
     "text": [
      "['Year', 'Revenue_(mil._USD)', 'Net_income_(mil._USD)', 'Total_assets_(mil._USD)', 'Employees']\n"
     ]
    }
   ],
   "source": [
    "import re\n",
    "regex = re.compile('_\\[\\w\\]')\n",
    "\n",
    "table_head = full_table.select('tr th')\n",
    "table_columns = []\n",
    "for element in table_head:\n",
    "    column_label = element.get_text(separator=\" \", strip=True)\n",
    "    column_label = column_label.replace(' ', '_')\n",
    "    column_label = regex.sub('', column_label)\n",
    "    table_columns.append(column_label)\n",
    "\n",
    "print(table_columns)\n"
   ]
  },
  {
   "cell_type": "code",
   "execution_count": 34,
   "metadata": {},
   "outputs": [
    {
     "output_type": "stream",
     "name": "stdout",
     "text": [
      "[['2005[471]', '0', '-12', '8', ''], ['2006[471] [472]', '0', '-30', '44', '70'], ['2007[471]', '0.073', '-78', '34', '268'], ['2008[471]', '15', '-83', '52', '252'], ['2009[471]', '112', '−56', '130', '514'], ['2010[473]', '117', '−154', '386', '899'], ['2011[474]', '204', '−254', '713', '1,417'], ['2012[475]', '413', '−396', '1,114', '2,914'], ['2013[476]', '2,013', '−74', '2,417', '5,859'], ['2014[477]', '3,198', '−294', '5,831', '10,161'], ['2015[478]', '4,046', '−889', '8,068', '13,058'], ['2016[479]', '7,000', '−675', '22,664', '17,782'], ['2017[480]', '11,759', '−1,962', '28,655', '37,543'], ['2018[481]', '21,461', '−976', '29,740', '48,817'], ['2019[482]', '24,578', '−862', '34,309', '48,016'], ['2020[4]', '31,536', '721', '52,148', '70,757']]\n"
     ]
    }
   ],
   "source": [
    "table_rows = full_table.select('tr')\n",
    "table_data = []\n",
    "for index, element in enumerate(table_rows):\n",
    "    if index > 0:\n",
    "        row_list = []\n",
    "        values = element.select('td')\n",
    "        for value in values:\n",
    "            row_list.append(value.text.strip())\n",
    "        table_data.append(row_list)\n",
    "\n",
    "print(table_data)"
   ]
  },
  {
   "cell_type": "code",
   "execution_count": 40,
   "metadata": {},
   "outputs": [
    {
     "output_type": "execute_result",
     "data": {
      "text/plain": [
       "               Year Revenue_(mil._USD) Net_income_(mil._USD)  \\\n",
       "0         2005[471]                  0                   -12   \n",
       "1   2006[471] [472]                  0                   -30   \n",
       "2         2007[471]              0.073                   -78   \n",
       "3         2008[471]                 15                   -83   \n",
       "4         2009[471]                112                   −56   \n",
       "5         2010[473]                117                  −154   \n",
       "6         2011[474]                204                  −254   \n",
       "7         2012[475]                413                  −396   \n",
       "8         2013[476]              2,013                   −74   \n",
       "9         2014[477]              3,198                  −294   \n",
       "10        2015[478]              4,046                  −889   \n",
       "11        2016[479]              7,000                  −675   \n",
       "12        2017[480]             11,759                −1,962   \n",
       "13        2018[481]             21,461                  −976   \n",
       "14        2019[482]             24,578                  −862   \n",
       "15          2020[4]             31,536                   721   \n",
       "\n",
       "   Total_assets_(mil._USD) Employees  \n",
       "0                        8            \n",
       "1                       44        70  \n",
       "2                       34       268  \n",
       "3                       52       252  \n",
       "4                      130       514  \n",
       "5                      386       899  \n",
       "6                      713     1,417  \n",
       "7                    1,114     2,914  \n",
       "8                    2,417     5,859  \n",
       "9                    5,831    10,161  \n",
       "10                   8,068    13,058  \n",
       "11                  22,664    17,782  \n",
       "12                  28,655    37,543  \n",
       "13                  29,740    48,817  \n",
       "14                  34,309    48,016  \n",
       "15                  52,148    70,757  "
      ],
      "text/html": "<div>\n<style scoped>\n    .dataframe tbody tr th:only-of-type {\n        vertical-align: middle;\n    }\n\n    .dataframe tbody tr th {\n        vertical-align: top;\n    }\n\n    .dataframe thead th {\n        text-align: right;\n    }\n</style>\n<table border=\"1\" class=\"dataframe\">\n  <thead>\n    <tr style=\"text-align: right;\">\n      <th></th>\n      <th>Year</th>\n      <th>Revenue_(mil._USD)</th>\n      <th>Net_income_(mil._USD)</th>\n      <th>Total_assets_(mil._USD)</th>\n      <th>Employees</th>\n    </tr>\n  </thead>\n  <tbody>\n    <tr>\n      <th>0</th>\n      <td>2005[471]</td>\n      <td>0</td>\n      <td>-12</td>\n      <td>8</td>\n      <td></td>\n    </tr>\n    <tr>\n      <th>1</th>\n      <td>2006[471] [472]</td>\n      <td>0</td>\n      <td>-30</td>\n      <td>44</td>\n      <td>70</td>\n    </tr>\n    <tr>\n      <th>2</th>\n      <td>2007[471]</td>\n      <td>0.073</td>\n      <td>-78</td>\n      <td>34</td>\n      <td>268</td>\n    </tr>\n    <tr>\n      <th>3</th>\n      <td>2008[471]</td>\n      <td>15</td>\n      <td>-83</td>\n      <td>52</td>\n      <td>252</td>\n    </tr>\n    <tr>\n      <th>4</th>\n      <td>2009[471]</td>\n      <td>112</td>\n      <td>−56</td>\n      <td>130</td>\n      <td>514</td>\n    </tr>\n    <tr>\n      <th>5</th>\n      <td>2010[473]</td>\n      <td>117</td>\n      <td>−154</td>\n      <td>386</td>\n      <td>899</td>\n    </tr>\n    <tr>\n      <th>6</th>\n      <td>2011[474]</td>\n      <td>204</td>\n      <td>−254</td>\n      <td>713</td>\n      <td>1,417</td>\n    </tr>\n    <tr>\n      <th>7</th>\n      <td>2012[475]</td>\n      <td>413</td>\n      <td>−396</td>\n      <td>1,114</td>\n      <td>2,914</td>\n    </tr>\n    <tr>\n      <th>8</th>\n      <td>2013[476]</td>\n      <td>2,013</td>\n      <td>−74</td>\n      <td>2,417</td>\n      <td>5,859</td>\n    </tr>\n    <tr>\n      <th>9</th>\n      <td>2014[477]</td>\n      <td>3,198</td>\n      <td>−294</td>\n      <td>5,831</td>\n      <td>10,161</td>\n    </tr>\n    <tr>\n      <th>10</th>\n      <td>2015[478]</td>\n      <td>4,046</td>\n      <td>−889</td>\n      <td>8,068</td>\n      <td>13,058</td>\n    </tr>\n    <tr>\n      <th>11</th>\n      <td>2016[479]</td>\n      <td>7,000</td>\n      <td>−675</td>\n      <td>22,664</td>\n      <td>17,782</td>\n    </tr>\n    <tr>\n      <th>12</th>\n      <td>2017[480]</td>\n      <td>11,759</td>\n      <td>−1,962</td>\n      <td>28,655</td>\n      <td>37,543</td>\n    </tr>\n    <tr>\n      <th>13</th>\n      <td>2018[481]</td>\n      <td>21,461</td>\n      <td>−976</td>\n      <td>29,740</td>\n      <td>48,817</td>\n    </tr>\n    <tr>\n      <th>14</th>\n      <td>2019[482]</td>\n      <td>24,578</td>\n      <td>−862</td>\n      <td>34,309</td>\n      <td>48,016</td>\n    </tr>\n    <tr>\n      <th>15</th>\n      <td>2020[4]</td>\n      <td>31,536</td>\n      <td>721</td>\n      <td>52,148</td>\n      <td>70,757</td>\n    </tr>\n  </tbody>\n</table>\n</div>"
     },
     "metadata": {},
     "execution_count": 40
    }
   ],
   "source": [
    "data_frame = pd.DataFrame(table_data, columns=table_columns)\n",
    "data_frame"
   ]
  },
  {
   "cell_type": "code",
   "execution_count": null,
   "metadata": {},
   "outputs": [],
   "source": []
  }
 ]
}